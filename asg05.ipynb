{
 "cells": [
  {
   "cell_type": "markdown",
   "metadata": {},
   "source": [
    "# Assignment 5: Growth and Preferential Attatchment\n",
    "Submission from Maria Kagkeli, Maria Regina Lily, Mihai Verzan"
   ]
  },
  {
   "cell_type": "markdown",
   "metadata": {},
   "source": [
    "## Problem 5-3"
   ]
  },
  {
   "cell_type": "code",
   "execution_count": 67,
   "metadata": {},
   "outputs": [],
   "source": [
    "import networkx as nx\n",
    "import igraph as ig\n",
    "import numpy as np\n",
    "import copy"
   ]
  },
  {
   "cell_type": "code",
   "execution_count": 68,
   "metadata": {},
   "outputs": [],
   "source": [
    "def barabasi_albert(g, t, m):\n",
    "    G = copy.deepcopy(g)\n",
    "    for i in range(t):\n",
    "        G.add_vertex()\n",
    "        nodes = [i for i in range(len(G.degree()))]\n",
    "        new_node = len(nodes)-1\n",
    "        #print(nodes)\n",
    "        #print(new_node)\n",
    "        degs = np.array(G.degree())/np.sum(G.degree())\n",
    "        targets = np.random.choice(nodes, p=degs, size=m)\n",
    "        for t in targets:\n",
    "            G.add_edge(new_node,t) \n",
    "            \n",
    "    G.simplify(multiple=\"False\", loops=\"False\")\n",
    "    return G    \n",
    "    '''    \n",
    "    #for each new node, add m edges to the node\n",
    "    #choose weighted random target for each new edges\n",
    "    #weight = degree of existing nodes.\n",
    "    for n in new_nodes:\n",
    "        n_i = n.index\n",
    "        degs = np.array(G.degree())/np.sum(G.degree())\n",
    "        print(nodes, degs)\n",
    "        targets = np.random.choice(nodes, p=degs, size=m)\n",
    "        print(targets)\n",
    "        for t in targets:\n",
    "            G.add_edge(n,t) \n",
    "    G.simplify(multiple=\"False\", loops=\"False\")\n",
    "    '''"
   ]
  },
  {
   "cell_type": "code",
   "execution_count": 106,
   "metadata": {},
   "outputs": [
    {
     "name": "stdout",
     "output_type": "stream",
     "text": [
      "2\n"
     ]
    }
   ],
   "source": [
    "# create test graph G\n",
    "G = ig.Graph()\n",
    "G.add_vertices(4)\n",
    "G.add_edges([(0,1), (0,2), (1,2), (1,3)])\n",
    "G_ba = barabasi_albert(G, 100, 2)\n",
    "ig.plot(G_ba, layout=\"grid\")\n",
    "degs = G_ab.degree\n",
    "max_node = G_ba.vs.find(_degree = G_ba.maxdegree())\n",
    "print(max_node.index)"
   ]
  },
  {
   "cell_type": "code",
   "execution_count": 144,
   "metadata": {},
   "outputs": [],
   "source": [
    "G5 = ig.Graph.Full(5)"
   ]
  },
  {
   "cell_type": "code",
   "execution_count": 145,
   "metadata": {},
   "outputs": [
    {
     "name": "stdout",
     "output_type": "stream",
     "text": [
      "105 296 592\n"
     ]
    }
   ],
   "source": [
    "G_2 = barabasi_albert(G5, 100, 3)\n",
    "nodes = len(G_2.vs)\n",
    "edges = len(G_2.es)\n",
    "sum_degs = np.sum(G_2.degree())\n",
    "print(nodes, edges, sum_degs)"
   ]
  },
  {
   "cell_type": "code",
   "execution_count": 146,
   "metadata": {},
   "outputs": [
    {
     "name": "stdout",
     "output_type": "stream",
     "text": [
      "0.03723636167065692\n"
     ]
    }
   ],
   "source": [
    "G_3 = barabasi_albert(G5, 1000, 4)\n",
    "cc = G_3.transitivity_avglocal_undirected()\n",
    "print(cc)"
   ]
  },
  {
   "cell_type": "code",
   "execution_count": 147,
   "metadata": {},
   "outputs": [
    {
     "data": {
      "text/plain": [
       "5"
      ]
     },
     "execution_count": 147,
     "metadata": {},
     "output_type": "execute_result"
    }
   ],
   "source": [
    "G_3.diameter(directed=False)\n"
   ]
  },
  {
   "cell_type": "code",
   "execution_count": 148,
   "metadata": {},
   "outputs": [],
   "source": [
    "import collections\n",
    "\n",
    "#find the degree distribution of original data set\n",
    "degs_count = collections.Counter(sorted(G_3.degree()))\n",
    "# remove the first element because it's zero. this throws off the power law fitting function\n",
    "deg, cnt = zip(*list(degs_count.items())[1:])\n",
    "cnt = np.array(cnt)/len(G_3.degree())"
   ]
  },
  {
   "cell_type": "code",
   "execution_count": 149,
   "metadata": {},
   "outputs": [
    {
     "data": {
      "text/plain": [
       "array([-2.53682826, 10.99784289])"
      ]
     },
     "execution_count": 149,
     "metadata": {},
     "output_type": "execute_result"
    }
   ],
   "source": [
    "from scipy.optimize import curve_fit\n",
    "\n",
    "# this function defines a power law. we use scipy to optimize its parameters\n",
    "def func(x, e, a):\n",
    "    return a * x ** e\n",
    "\n",
    "popt, pcov = curve_fit(func, deg, cnt)\n",
    "fit_y = [func(i, *popt) for i in deg]\n",
    "\n",
    "popt"
   ]
  },
  {
   "cell_type": "code",
   "execution_count": 150,
   "metadata": {},
   "outputs": [
    {
     "data": {
      "image/png": "[encoded data removed]",
      "text/plain": [
       "<Figure size 936x624 with 1 Axes>"
      ]
     },
     "metadata": {
      "needs_background": "light"
     },
     "output_type": "display_data"
    }
   ],
   "source": [
    "import matplotlib.pyplot as plt\n",
    "\n",
    "fig, ax = plt.subplots()\n",
    "fig.set_figwidth(13)\n",
    "fig.set_figheight(13*2/3)\n",
    "plt.xscale(\"log\")\n",
    "plt.yscale(\"log\")\n",
    "\n",
    "plt.plot(deg, cnt, '.', color='b')\n",
    "plt.plot(deg, fit_y, color='r')\n",
    "\n",
    "plt.legend([\"original degree distribution\", \"powerlaw fitting\"])\n",
    "plt.title(\"Degree Distribution Graph\")\n",
    "plt.show()"
   ]
  }
 ],
 "metadata": {
  "kernelspec": {
   "display_name": "Python 3",
   "language": "python",
   "name": "python3"
  },
  "language_info": {
   "codemirror_mode": {
    "name": "ipython",
    "version": 3
   },
   "file_extension": ".py",
   "mimetype": "text/x-python",
   "name": "python",
   "nbconvert_exporter": "python",
   "pygments_lexer": "ipython3",
   "version": "3.6.6"
  }
 },
 "nbformat": 4,
 "nbformat_minor": 2
}
